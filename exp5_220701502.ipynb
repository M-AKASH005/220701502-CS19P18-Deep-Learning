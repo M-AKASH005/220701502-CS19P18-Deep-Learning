{
 "cells": [
  {
   "cell_type": "code",
   "execution_count": 1,
   "id": "dd1ada59-2d08-4a07-a8e8-83720c02877b",
   "metadata": {},
   "outputs": [
    {
     "name": "stdout",
     "output_type": "stream",
     "text": [
      "Training data shape: (25000,)\n",
      "Test data shape: (25000,)\n"
     ]
    }
   ],
   "source": [
    "import tensorflow as tf\n",
    "from tensorflow.keras.datasets import imdb\n",
    "from tensorflow.keras.preprocessing import sequence\n",
    "\n",
    "# Load dataset\n",
    "max_features = 10000  # number of words to consider as features\n",
    "max_len = 200         # cut reviews after 200 words\n",
    "\n",
    "(x_train, y_train), (x_test, y_test) = imdb.load_data(num_words=max_features)\n",
    "\n",
    "print(\"Training data shape:\", x_train.shape)\n",
    "print(\"Test data shape:\", x_test.shape)\n"
   ]
  },
  {
   "cell_type": "code",
   "execution_count": 2,
   "id": "ee5553ca-5498-433d-a37e-5a0e4f13a1c2",
   "metadata": {},
   "outputs": [
    {
     "name": "stdout",
     "output_type": "stream",
     "text": [
      "Padded x_train shape: (25000, 200)\n"
     ]
    }
   ],
   "source": [
    "# Pad sequences to same length\n",
    "x_train = sequence.pad_sequences(x_train, maxlen=max_len)\n",
    "x_test = sequence.pad_sequences(x_test, maxlen=max_len)\n",
    "\n",
    "print(\"Padded x_train shape:\", x_train.shape)\n"
   ]
  },
  {
   "cell_type": "code",
   "execution_count": 3,
   "id": "ca5d5995-37db-4f09-8fd5-c51a300724bc",
   "metadata": {},
   "outputs": [
    {
     "name": "stdout",
     "output_type": "stream",
     "text": [
      "Model: \"sequential\"\n",
      "_________________________________________________________________\n",
      " Layer (type)                Output Shape              Param #   \n",
      "=================================================================\n",
      " embedding (Embedding)       (None, None, 128)         1280000   \n",
      "                                                                 \n",
      " simple_rnn (SimpleRNN)      (None, 64)                12352     \n",
      "                                                                 \n",
      " dense (Dense)               (None, 1)                 65        \n",
      "                                                                 \n",
      "=================================================================\n",
      "Total params: 1,292,417\n",
      "Trainable params: 1,292,417\n",
      "Non-trainable params: 0\n",
      "_________________________________________________________________\n"
     ]
    }
   ],
   "source": [
    "from tensorflow.keras.models import Sequential\n",
    "from tensorflow.keras.layers import Embedding, SimpleRNN, Dense\n",
    "\n",
    "model = Sequential()\n",
    "model.add(Embedding(max_features, 128))        # word embeddings\n",
    "model.add(SimpleRNN(64))                       # simple RNN layer\n",
    "model.add(Dense(1, activation='sigmoid'))      # binary classification\n",
    "\n",
    "model.summary()\n"
   ]
  },
  {
   "cell_type": "code",
   "execution_count": null,
   "id": "5c14c808-5201-4a44-bd09-261b26d63a2c",
   "metadata": {},
   "outputs": [
    {
     "name": "stdout",
     "output_type": "stream",
     "text": [
      "Epoch 1/5\n",
      " 72/313 [=====>........................] - ETA: 28s - loss: 0.6887 - accuracy: 0.5373  "
     ]
    }
   ],
   "source": [
    "model.compile(optimizer='adam',\n",
    "              loss='binary_crossentropy',\n",
    "              metrics=['accuracy'])\n",
    "\n",
    "history = model.fit(x_train, y_train,\n",
    "                    epochs=5,\n",
    "                    batch_size=64,\n",
    "                    validation_split=0.2)\n"
   ]
  },
  {
   "cell_type": "code",
   "execution_count": 5,
   "id": "ac0f4971-e080-420a-92a3-76a103cf6b44",
   "metadata": {},
   "outputs": [
    {
     "name": "stdout",
     "output_type": "stream",
     "text": [
      "782/782 [==============================] - 22s 27ms/step\n"
     ]
    }
   ],
   "source": [
    "y_pred = (model.predict(x_test) > 0.5).astype(\"int32\")\n"
   ]
  },
  {
   "cell_type": "code",
   "execution_count": 6,
   "id": "6ddc827a-c846-4a3c-9639-1211dca24465",
   "metadata": {},
   "outputs": [
    {
     "name": "stdout",
     "output_type": "stream",
     "text": [
      "Test Accuracy: 0.77968\n",
      "Classification Report:\n",
      "               precision    recall  f1-score   support\n",
      "\n",
      "           0       0.82      0.71      0.76     12500\n",
      "           1       0.75      0.85      0.79     12500\n",
      "\n",
      "    accuracy                           0.78     25000\n",
      "   macro avg       0.79      0.78      0.78     25000\n",
      "weighted avg       0.79      0.78      0.78     25000\n",
      "\n"
     ]
    }
   ],
   "source": [
    "from sklearn.metrics import accuracy_score, classification_report\n",
    "\n",
    "print(\"Test Accuracy:\", accuracy_score(y_test, y_pred))\n",
    "print(\"Classification Report:\\n\", classification_report(y_test, y_pred))\n"
   ]
  },
  {
   "cell_type": "code",
   "execution_count": 7,
   "id": "54ce6337-9b63-4dce-9d85-cdf94d834c30",
   "metadata": {},
   "outputs": [
    {
     "name": "stdout",
     "output_type": "stream",
     "text": [
      "Sample 1:  Actual = 0,  Predicted = 0\n",
      "Sample 2:  Actual = 1,  Predicted = 1\n",
      "Sample 3:  Actual = 1,  Predicted = 1\n",
      "Sample 4:  Actual = 0,  Predicted = 1\n",
      "Sample 5:  Actual = 1,  Predicted = 1\n",
      "Sample 6:  Actual = 1,  Predicted = 0\n",
      "Sample 7:  Actual = 1,  Predicted = 1\n",
      "Sample 8:  Actual = 0,  Predicted = 0\n",
      "Sample 9:  Actual = 0,  Predicted = 1\n",
      "Sample 10:  Actual = 1,  Predicted = 1\n"
     ]
    }
   ],
   "source": [
    "# Show first 10 actual vs predicted labels\n",
    "for i in range(10):\n",
    "    print(f\"Sample {i+1}:  Actual = {y_test[i]},  Predicted = {y_pred[i][0]}\")\n"
   ]
  },
  {
   "cell_type": "code",
   "execution_count": null,
   "id": "b4e8d0b0-5eaa-4fed-bac7-25e0239eb634",
   "metadata": {},
   "outputs": [],
   "source": []
  }
 ],
 "metadata": {
  "kernelspec": {
   "display_name": "Python (dlc)",
   "language": "python",
   "name": "dlc"
  },
  "language_info": {
   "codemirror_mode": {
    "name": "ipython",
    "version": 3
   },
   "file_extension": ".py",
   "mimetype": "text/x-python",
   "name": "python",
   "nbconvert_exporter": "python",
   "pygments_lexer": "ipython3",
   "version": "3.7.12"
  }
 },
 "nbformat": 4,
 "nbformat_minor": 5
}
